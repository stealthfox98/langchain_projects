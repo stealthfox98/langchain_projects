{
  "cells": [
    {
      "cell_type": "markdown",
      "metadata": {
        "id": "aPFblz6d749b"
      },
      "source": [
        "# Build End-to-End LLM project for a retail domain (t-shirts selling store)."
      ]
    },
    {
      "cell_type": "markdown",
      "metadata": {
        "id": "3fDCRsNP7xEv"
      },
      "source": [
        "Tech stack for this project\n",
        "* UI: Streamlit\n",
        "* LLM: Google Gemini LLM model\n",
        "* Embeddings: Hugging Face\n",
        "* Framework: Langchain"
      ]
    },
    {
      "cell_type": "markdown",
      "metadata": {},
      "source": [
        "# Importing required modules"
      ]
    },
    {
      "cell_type": "code",
      "execution_count": 1,
      "metadata": {},
      "outputs": [],
      "source": [
        "from langchain_google_genai import ChatGoogleGenerativeAI\n",
        "from langchain_community.utilities import SQLDatabase\n",
        "from langchain_community.tools.sql_database.tool import QuerySQLDatabaseTool\n",
        "from langchain import hub\n",
        "from dotenv import load_dotenv\n",
        "import os\n",
        "import getpass"
      ]
    },
    {
      "cell_type": "markdown",
      "metadata": {},
      "source": [
        "# Insert API key"
      ]
    },
    {
      "cell_type": "code",
      "execution_count": 2,
      "metadata": {},
      "outputs": [],
      "source": [
        "if \"GOOGLE_API_KEY\" not in os.environ:\n",
        "    os.environ[\"GOOGLE_API_KEY\"] = getpass.getpass(\"Enter your Google AI API key: \")"
      ]
    },
    {
      "cell_type": "markdown",
      "metadata": {},
      "source": [
        "# Initializing Gemini AI model"
      ]
    },
    {
      "cell_type": "code",
      "execution_count": 3,
      "metadata": {
        "id": "HSKhzSaW7o_c"
      },
      "outputs": [],
      "source": [
        "llm = ChatGoogleGenerativeAI(\n",
        "    model=\"gemini-2.0-flash\",\n",
        "    temperature=0,\n",
        "    max_tokens=None,\n",
        "    timeout=None,\n",
        "    max_retries=2,\n",
        "    # other params...\n",
        ")"
      ]
    },
    {
      "cell_type": "markdown",
      "metadata": {},
      "source": [
        "# Establishing database connection"
      ]
    },
    {
      "cell_type": "code",
      "execution_count": 4,
      "metadata": {},
      "outputs": [],
      "source": [
        "db_user = \"root\"\n",
        "db_password = \"Kitsune#sql98\"\n",
        "db_host = \"localhost\"\n",
        "db_name = \"atliq_tshirts\""
      ]
    },
    {
      "cell_type": "code",
      "execution_count": 5,
      "metadata": {},
      "outputs": [],
      "source": [
        "connection_Uri = f\"mysql+pymysql://{db_user}:{db_password}@{db_host}/{db_name}\"\n",
        "db = SQLDatabase.from_uri(connection_Uri)"
      ]
    },
    {
      "cell_type": "code",
      "execution_count": 6,
      "metadata": {},
      "outputs": [
        {
          "name": "stdout",
          "output_type": "stream",
          "text": [
            "\n",
            "CREATE TABLE discounts (\n",
            "\tdiscount_id INTEGER NOT NULL AUTO_INCREMENT, \n",
            "\tt_shirt_id INTEGER NOT NULL, \n",
            "\tpct_discount DECIMAL(5, 2), \n",
            "\tPRIMARY KEY (discount_id), \n",
            "\tCONSTRAINT discounts_ibfk_1 FOREIGN KEY(t_shirt_id) REFERENCES t_shirts (t_shirt_id), \n",
            "\tCONSTRAINT discounts_chk_1 CHECK ((`pct_discount` between 0 and 100))\n",
            ")DEFAULT CHARSET=utf8mb4 ENGINE=InnoDB COLLATE utf8mb4_0900_ai_ci\n",
            "\n",
            "/*\n",
            "3 rows from discounts table:\n",
            "discount_id\tt_shirt_id\tpct_discount\n",
            "1\t1\t10.00\n",
            "2\t2\t15.00\n",
            "3\t3\t20.00\n",
            "*/\n",
            "\n",
            "\n",
            "CREATE TABLE t_shirts (\n",
            "\tt_shirt_id INTEGER NOT NULL AUTO_INCREMENT, \n",
            "\tbrand ENUM('Van Huesen','Levi','Nike','Adidas') NOT NULL, \n",
            "\tcolor ENUM('Red','Blue','Black','White') NOT NULL, \n",
            "\tsize ENUM('XS','S','M','L','XL') NOT NULL, \n",
            "\tprice INTEGER, \n",
            "\tstock_quantity INTEGER NOT NULL, \n",
            "\tPRIMARY KEY (t_shirt_id), \n",
            "\tCONSTRAINT t_shirts_chk_1 CHECK ((`price` between 10 and 50))\n",
            ")DEFAULT CHARSET=utf8mb4 ENGINE=InnoDB COLLATE utf8mb4_0900_ai_ci\n",
            "\n",
            "/*\n",
            "3 rows from t_shirts table:\n",
            "t_shirt_id\tbrand\tcolor\tsize\tprice\tstock_quantity\n",
            "1\tVan Huesen\tBlue\tXS\t49\t63\n",
            "2\tVan Huesen\tBlack\tXL\t49\t92\n",
            "3\tNike\tBlue\tXS\t28\t86\n",
            "*/\n",
            "--------\n",
            "--------\n",
            "Dialect: mysql\n",
            "Available tables: ['discounts', 't_shirts']\n",
            "Sample output: [(1, 1, Decimal('10.00')), (2, 2, Decimal('15.00')), (3, 3, Decimal('20.00')), (4, 4, Decimal('5.00')), (5, 5, Decimal('25.00'))]\n"
          ]
        }
      ],
      "source": [
        "print(db.table_info)\n",
        "print(\"--------\")\n",
        "print(\"--------\")\n",
        "print(f\"Dialect: {db.dialect}\")\n",
        "print(f\"Available tables: {db.get_usable_table_names()}\")\n",
        "print(f'Sample output: {db.run(\"SELECT * FROM discounts LIMIT 5;\")}')"
      ]
    },
    {
      "cell_type": "markdown",
      "metadata": {},
      "source": [
        "# Core functionality"
      ]
    },
    {
      "cell_type": "markdown",
      "metadata": {},
      "source": [
        "## SQL Query Generation"
      ]
    },
    {
      "cell_type": "code",
      "execution_count": 7,
      "metadata": {},
      "outputs": [
        {
          "name": "stderr",
          "output_type": "stream",
          "text": [
            "c:\\Users\\danyc\\Desktop\\llm_sqldb\\venv\\Lib\\site-packages\\langsmith\\client.py:272: LangSmithMissingAPIKeyWarning: API key must be provided when using hosted LangSmith API\n",
            "  warnings.warn(\n"
          ]
        }
      ],
      "source": [
        "\"\"\"\n",
        "1. Pulls a specialized SQL generation prompt from LangChain Hub\n",
        "2. Formats the prompt with database schema information\n",
        "3. Sends the prompt to Gemini AI for query generation\n",
        "4. Uses a second prompt to extract just the SQL from the response\n",
        "\"\"\"\n",
        "\n",
        "query_prompt_template = hub.pull(\"langchain-ai/sql-query-system-prompt\")\n",
        "\n",
        "def write_query(question: str):\n",
        "    \"\"\"Generate SQL query from the user's question.\"\"\"\n",
        "    prompt = query_prompt_template.invoke(\n",
        "        {\n",
        "            \"dialect\": db.dialect,\n",
        "            \"top_k\": 10,\n",
        "            \"table_info\": db.get_table_info(),\n",
        "            \"input\": question,\n",
        "        }\n",
        "    )\n",
        "    response = llm.invoke(prompt.to_string())\n",
        "    extraction_prompt = \"\"\"\n",
        "    Please extract the SQL query from the following text and return only the SQL query without any additional characters or formatting:\n",
        "\n",
        "    {response}\n",
        "\n",
        "    SQL Query:\n",
        "    \"\"\"\n",
        "    # Format the prompt with the actual response\n",
        "    prompt = extraction_prompt.format(response=response)\n",
        "    # Invoke the language model with the prompt\n",
        "    parsed_query = llm.invoke(prompt)\n",
        "    return parsed_query.content"
      ]
    },
    {
      "cell_type": "markdown",
      "metadata": {},
      "source": [
        "## Query Execution"
      ]
    },
    {
      "cell_type": "code",
      "execution_count": 8,
      "metadata": {},
      "outputs": [],
      "source": [
        "\"\"\"\n",
        "This function creates a query execution tool and runs the generated SQL against your database, returning the raw results.\n",
        "\"\"\"\n",
        "\n",
        "def execute_query(query: str):\n",
        "    \"\"\"Execute the SQL query.\"\"\"\n",
        "    execute_query_tool = QuerySQLDatabaseTool(db=db)\n",
        "    return execute_query_tool.invoke(query)"
      ]
    },
    {
      "cell_type": "markdown",
      "metadata": {},
      "source": [
        "## Natural Language Answer Generation"
      ]
    },
    {
      "cell_type": "code",
      "execution_count": 9,
      "metadata": {},
      "outputs": [],
      "source": [
        "\"\"\"\n",
        "This function takes the original question, generated SQL, and query results, then asks Gemini to formulate a human-friendly answer.\n",
        "\"\"\"\n",
        "\n",
        "def generate_answer(question: str, query: str, result: str):\n",
        "    \"\"\"Generate an answer using the query results.\"\"\"\n",
        "    prompt = (\n",
        "        \"Given the following user question, corresponding SQL query, \"\n",
        "        \"and SQL result, answer the user question.\\n\\n\"\n",
        "        f'Question: {question}\\n'\n",
        "        f'SQL Query: {query}\\n'\n",
        "        f'SQL Result: {result}'\n",
        "    )\n",
        "    response = llm.invoke(prompt)\n",
        "    return response.content"
      ]
    },
    {
      "cell_type": "markdown",
      "metadata": {},
      "source": [
        "# Putting It All Together"
      ]
    },
    {
      "cell_type": "code",
      "execution_count": 35,
      "metadata": {},
      "outputs": [],
      "source": [
        "def model_output(input):\n",
        "    query = write_query(input)\n",
        "    result = execute_query(query)\n",
        "    answer = generate_answer(input, query, result)\n",
        "\n",
        "    print(f\"Query: \\n\\n{query}\")\n",
        "    print(\"\\n\")\n",
        "    print(answer)"
      ]
    },
    {
      "cell_type": "code",
      "execution_count": 36,
      "metadata": {},
      "outputs": [
        {
          "name": "stdout",
          "output_type": "stream",
          "text": [
            "Query: \n",
            "\n",
            "SELECT\n",
            "  SUM(\n",
            "    (\n",
            "      t.price * (\n",
            "        1 - (\n",
            "          d.pct_discount / 100\n",
            "        )\n",
            "      )\n",
            "    ) * t.stock_quantity\n",
            "  ) AS revenue\n",
            "FROM t_shirts AS t\n",
            "JOIN discounts AS d\n",
            "  ON t.t_shirt_id = d.t_shirt_id\n",
            "WHERE\n",
            "  t.brand = 'Van Huesen';\n",
            "\n",
            "\n",
            "Answer: The store will generate $9634.25 in revenue if all Van Heusen T-shirts are sold today with the discounts applied.\n"
          ]
        }
      ],
      "source": [
        "# question = \"How many t-shirts do we have left for nike in extra small size and white color?\"\n",
        "# question = \"How much is the price of the inventory for all small size t-shirts?\"\n",
        "# question = \"If we have to sell all the Levi’s T-shirts today with discounts applied. How much revenue our store will generate (post discounts)?\"\n",
        "question = \"If we have to sell all the Van Heuson T-shirts today with discounts applied. How much revenue  our store will generate (post discounts)?\"\n",
        "\n",
        "model_output(question)"
      ]
    }
  ],
  "metadata": {
    "colab": {
      "provenance": []
    },
    "kernelspec": {
      "display_name": "venv",
      "language": "python",
      "name": "python3"
    },
    "language_info": {
      "codemirror_mode": {
        "name": "ipython",
        "version": 3
      },
      "file_extension": ".py",
      "mimetype": "text/x-python",
      "name": "python",
      "nbconvert_exporter": "python",
      "pygments_lexer": "ipython3",
      "version": "3.12.10"
    }
  },
  "nbformat": 4,
  "nbformat_minor": 0
}
